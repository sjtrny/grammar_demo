{
 "cells": [
  {
   "cell_type": "code",
   "execution_count": 1,
   "id": "05215185-bd18-41dd-b43f-dcdbe18fab3e",
   "metadata": {},
   "outputs": [],
   "source": [
    "from llama_cpp.llama import LlamaGrammar\n",
    "from llama_cpp import Llama\n",
    "import json"
   ]
  },
  {
   "cell_type": "code",
   "execution_count": 2,
   "id": "9f673d16-2fc8-4d6d-9e93-0f6d7537dbb8",
   "metadata": {},
   "outputs": [],
   "source": [
    "model = Llama(\n",
    "    # https://huggingface.co/TheBloke/Mistral-7B-OpenOrca-GGUF\n",
    "    model_path=\"./mistral-7b-openorca.Q6_K.gguf\",\n",
    "    n_gpu_layers=-1, # Offload all layers to GPU\n",
    "    n_batch=512,\n",
    "    n_ctx=2048,\n",
    "    stop=[\"<|im_end|>\"],\n",
    "    verbose=False,\n",
    ")"
   ]
  },
  {
   "cell_type": "code",
   "execution_count": 3,
   "id": "b55abc18-9036-4199-8982-ea9dde56089b",
   "metadata": {},
   "outputs": [],
   "source": [
    "grammar_str = r'''root   ::= object\n",
    "value  ::= object | array | string | number | (\"true\" | \"false\" | \"null\") ws\n",
    "\n",
    "object ::=\n",
    "  \"{\" ws (\n",
    "            string \":\" ws value\n",
    "    (\",\" ws string \":\" ws value)*\n",
    "  )? \"}\" ws\n",
    "\n",
    "array  ::=\n",
    "  \"[\" ws (\n",
    "            value\n",
    "    (\",\" ws value)*\n",
    "  )? \"]\" ws\n",
    "\n",
    "string ::=\n",
    "  \"\\\"\" (\n",
    "    [^\"\\\\\\x7F\\x00-\\x1F] |\n",
    "    \"\\\\\" ([\"\\\\bfnrt] | \"u\" [0-9a-fA-F]{4}) # escapes\n",
    "  )* \"\\\"\" ws\n",
    "\n",
    "number ::= (\"-\"? ([0-9] | [1-9] [0-9]{0,15})) (\".\" [0-9]+)? ([eE] [-+]? [0-9] [1-9]{0,15})? ws\n",
    "\n",
    "# Optional space: by convention, applied in this grammar after literal chars when allowed\n",
    "ws ::= | \" \" | \"\\n\" [ \\t]{0,20}\n",
    "'''\n",
    "\n",
    "json_grammar = LlamaGrammar.from_string(grammar_str,verbose=False)"
   ]
  },
  {
   "cell_type": "code",
   "execution_count": 4,
   "id": "f043b6d5-a1dc-496d-8c04-7516e11df64c",
   "metadata": {},
   "outputs": [],
   "source": [
    "prompt = \"\"\"\n",
    "<|im_start|>system\n",
    "You are MistralOrca, a large language model trained by Alignment Lab AI. Answer the questions as succinctly as possible.\n",
    "<|im_end|>\n",
    "<|im_start|>user\n",
    "Tell me about Massachusetts.\n",
    "<|im_end|>\n",
    "<|im_start|>assistant\n",
    "\"\"\""
   ]
  },
  {
   "cell_type": "code",
   "execution_count": 5,
   "id": "24aa1cbe-f055-4f7c-9bb3-fa4a2830b662",
   "metadata": {},
   "outputs": [],
   "source": [
    "response = model(\n",
    "    prompt,\n",
    "    grammar=json_grammar,\n",
    "    max_tokens=None,\n",
    "    temperature=1\n",
    ")['choices'][0]['text']"
   ]
  },
  {
   "cell_type": "code",
   "execution_count": 6,
   "id": "70d771f6-357b-4f8e-87be-562d2ecd0859",
   "metadata": {},
   "outputs": [
    {
     "name": "stdout",
     "output_type": "stream",
     "text": [
      "{\n",
      "    \"State\": \"Massachusetts\",\n",
      "    \"Capital\": \"Boston\",\n",
      "    \"Nickname\": \"The Bay State\",\n",
      "    \"Location\": \"New England region\",\n",
      "    \"Neighbors\": \"Connecticut, Rhode Island, New Hampshire, and Vermont\",\n",
      "    \"Notable Cities\": \"Boston, Worcester, Springfield, Cambridge, and Lowell\",\n",
      "    \"Size\": \"35,058 square miles\",\n",
      "    \"Population\": \"6.9 million (as of 2020)\",\n",
      "    \"Major Attractions\": \"Fenway Park, Freedom Trail, Cape Cod, Faneuil Hall, and Salem\"\n",
      "}\n",
      "\n"
     ]
    }
   ],
   "source": [
    "print(response)"
   ]
  },
  {
   "cell_type": "code",
   "execution_count": null,
   "id": "96d776dd-94c5-49f8-adae-f96c6266f684",
   "metadata": {},
   "outputs": [],
   "source": []
  }
 ],
 "metadata": {
  "kernelspec": {
   "display_name": "Python 3 (ipykernel)",
   "language": "python",
   "name": "python3"
  },
  "language_info": {
   "codemirror_mode": {
    "name": "ipython",
    "version": 3
   },
   "file_extension": ".py",
   "mimetype": "text/x-python",
   "name": "python",
   "nbconvert_exporter": "python",
   "pygments_lexer": "ipython3",
   "version": "3.12.4"
  }
 },
 "nbformat": 4,
 "nbformat_minor": 5
}
